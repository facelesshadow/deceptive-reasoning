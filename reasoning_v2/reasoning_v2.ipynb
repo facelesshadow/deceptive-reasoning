{
 "cells": [
  {
   "cell_type": "code",
   "execution_count": 1,
   "id": "ce3a73b4",
   "metadata": {},
   "outputs": [],
   "source": [
    "from langchain_ollama import ChatOllama\n",
    "model = ChatOllama(model='gemma3:4b', temperature=0)"
   ]
  },
  {
   "cell_type": "code",
   "execution_count": 2,
   "id": "283652a1",
   "metadata": {},
   "outputs": [],
   "source": [
    "from langchain_core.prompts import PromptTemplate\n",
    "from langchain_core.messages import SystemMessage, HumanMessage, AIMessage\n",
    "\n",
    "\n",
    "prompt = \"\"\"You are given a query / question. Rephrase it, and understand what the user is asking. Also answer in very short if you know how to answer that question / about the topic. \n",
    "If you understand what the user means, give a rephrased question. If you are not clear on what the user means, simply ask the user again.\n",
    "\"\"\"\n",
    "\n",
    "query = \"J-12-Aod\"\n",
    "\n",
    "answer = model.invoke([SystemMessage(content=prompt), HumanMessage(content= query)])"
   ]
  },
  {
   "cell_type": "code",
   "execution_count": 3,
   "id": "4da436d0",
   "metadata": {},
   "outputs": [
    {
     "data": {
      "text/plain": [
       "'Could you please clarify what \"J-12-Aod\" refers to? Are you asking about a product, a code, or something else?'"
      ]
     },
     "execution_count": 3,
     "metadata": {},
     "output_type": "execute_result"
    }
   ],
   "source": [
    "answer.content"
   ]
  },
  {
   "cell_type": "code",
   "execution_count": 8,
   "id": "5dcc11ed",
   "metadata": {},
   "outputs": [
    {
     "data": {
      "text/plain": [
       "\"Okay, let's break this down. “J-12-A23” is a specific code or identifier. \\n\\n**I understand that it likely refers to a specific program, initiative, or process within the U.S. Department of State's program for supporting international exchange students.**\\n\\n**To help me understand better, could you tell me:**\\n\\n*   **What context are you asking about?** (e.g., Are you referring to a specific program, a particular location, or something else?)\\n*   **Where did you encounter this code?** (e.g., in a document, on a website, in a conversation?)\""
      ]
     },
     "execution_count": 8,
     "metadata": {},
     "output_type": "execute_result"
    }
   ],
   "source": [
    "answer.content"
   ]
  },
  {
   "cell_type": "code",
   "execution_count": 10,
   "id": "8432c020",
   "metadata": {},
   "outputs": [
    {
     "data": {
      "text/plain": [
       "'I understand you’re asking if I know what “hiLKJLS” refers to. \\n\\nUnfortunately, I don’t have enough information to answer that. It’s likely a random string of characters. \\n\\n**To help me understand, could you please tell me:**\\n\\n*   **Where did you see this term?** (e.g., a website, a message, a game, etc.)\\n*   **What is the context?** (What is the surrounding text or situation?)'"
      ]
     },
     "execution_count": 10,
     "metadata": {},
     "output_type": "execute_result"
    }
   ],
   "source": [
    "answer.content"
   ]
  },
  {
   "cell_type": "code",
   "execution_count": 12,
   "id": "69a3c860",
   "metadata": {},
   "outputs": [
    {
     "data": {
      "text/plain": [
       "'Okay, let\\'s break this down.\\n\\n**I understand that you\\'re asking if I know what Focus 15 is.**\\n\\nYes, I do! **Focus 15 is a popular and relatively new AI-powered tool designed to help you manage and prioritize your tasks and projects.** It’s built around the concept of \"Focus Blocks\" – short, timed sessions dedicated to deep work. \\n\\nEssentially, it helps you:\\n\\n*   **Set Focus Blocks:** You define the time you\\'ll dedicate to a specific task.\\n*   **Track Your Progress:** It visually shows you how much you\\'ve accomplished within each block.\\n*   **Identify Time Wasters:** It analyzes your time usage to highlight where you\\'re losing focus.\\n*   **Boost Productivity:** By encouraging focused work, it aims to improve overall productivity.\\n\\n**Do you want me to tell you more about its features, how it works, or perhaps give you a link to learn more?**'"
      ]
     },
     "execution_count": 12,
     "metadata": {},
     "output_type": "execute_result"
    }
   ],
   "source": [
    "answer.content"
   ]
  },
  {
   "cell_type": "code",
   "execution_count": 14,
   "id": "ac3a5df0",
   "metadata": {},
   "outputs": [
    {
     "data": {
      "text/plain": [
       "\"Okay, I understand you're expressing frustration or confusion. It seems like you're responding to something that's upsetting or confusing you. \\n\\n**I'm not sure what you're referring to. Could you please tell me what you're reacting to?** \\n\\nI want to help, so please explain what's going on.\""
      ]
     },
     "execution_count": 14,
     "metadata": {},
     "output_type": "execute_result"
    }
   ],
   "source": [
    "answer.content"
   ]
  },
  {
   "cell_type": "code",
   "execution_count": 16,
   "id": "b8b15acd",
   "metadata": {},
   "outputs": [
    {
     "data": {
      "text/plain": [
       "\"Okay, I understand. You're asking about Shinji from the anime series *Jujutsu Kaisen*. \\n\\n**I know about Shinji.** He’s a complex and often troubled character in the series. He’s a cursed spirit who is struggling with his past and trying to find a way to live a normal life. \\n\\n**To help me understand what you're looking for, could you tell me what you'd like to know about him?** For example, are you interested in:\\n\\n*   His backstory?\\n*   His personality?\\n*   His relationships with other characters?\\n*   His abilities?\""
      ]
     },
     "execution_count": 16,
     "metadata": {},
     "output_type": "execute_result"
    }
   ],
   "source": [
    "answer.content"
   ]
  },
  {
   "cell_type": "code",
   "execution_count": 19,
   "id": "bb7f2832",
   "metadata": {},
   "outputs": [
    {
     "data": {
      "text/plain": [
       "'Okay, \"Shinji AU\" – that\\'s a fascinating request! \\n\\nLet\\'s break this down. \"AU\" in this context almost certainly stands for \"Alternate Universe.\" So, you\\'re asking for a story or exploration of *Neon Genesis Evangelion* set in a different world or with different circumstances. \\n\\n**Rephrased Question:** You\\'re interested in seeing *Evangelion* reimagined in an alternate universe, correct?  Do you have any specific ideas in mind for what that alternate universe should be like? (e.g., different time period, different setting, different relationships, etc.) \\n\\n**Do I know how to answer that question?** \\n\\nYes, absolutely! I have a *huge* amount of knowledge about *Evangelion* and its many fan-created AUs. I can discuss countless variations, including:\\n\\n*   **Modern AU:** Shinji and Asuka attending a normal high school.\\n*   **Historical AU:** *Evangelion* set during a specific historical period (e.g., Victorian England, the Roaring Twenties).\\n*   **Fantasy AU:** *Evangelion* with magic and mythical creatures.\\n*   **Sci-Fi AU:** *Evangelion* with a different technological foundation.\\n\\nI can also help you brainstorm ideas for your own AU. \\n\\n**To help me give you a more useful response, could you tell me:**\\n\\n*   What kind of AU are you most interested in? (e.g., a specific genre, a particular theme, a certain setting?)'"
      ]
     },
     "execution_count": 19,
     "metadata": {},
     "output_type": "execute_result"
    }
   ],
   "source": [
    "answer.content"
   ]
  },
  {
   "cell_type": "code",
   "execution_count": 22,
   "id": "c3720f96",
   "metadata": {},
   "outputs": [
    {
     "data": {
      "text/plain": [
       "'Rephrased: Are you asking about Shinji from *Neon Genesis Evangelion* in an alternate universe (AU)? \\n\\nShort answer: Yes, AUs of Shinji are quite common!'"
      ]
     },
     "execution_count": 22,
     "metadata": {},
     "output_type": "execute_result"
    }
   ],
   "source": [
    "answer.content"
   ]
  },
  {
   "cell_type": "code",
   "execution_count": 24,
   "id": "83161a39",
   "metadata": {},
   "outputs": [
    {
     "data": {
      "text/plain": [
       "'Rephrased question: Could you clarify what you mean by \"simple domain\" in the context of Jujutsu Kaisen? Are you asking about a specific type of Jujutsu sorcerer, or something else?'"
      ]
     },
     "execution_count": 24,
     "metadata": {},
     "output_type": "execute_result"
    }
   ],
   "source": [
    "answer.content"
   ]
  },
  {
   "cell_type": "code",
   "execution_count": 26,
   "id": "00754081",
   "metadata": {},
   "outputs": [
    {
     "data": {
      "text/plain": [
       "\"That doesn't make sense. Could you please clarify what you're asking about? Are you referring to a code, a product, or something else?\""
      ]
     },
     "execution_count": 26,
     "metadata": {},
     "output_type": "execute_result"
    }
   ],
   "source": [
    "answer.content"
   ]
  },
  {
   "cell_type": "markdown",
   "id": "5f449843",
   "metadata": {},
   "source": [
    "### Hallucination spotted, where the other output was asked what it means."
   ]
  },
  {
   "cell_type": "code",
   "execution_count": 27,
   "id": "e5b585a9",
   "metadata": {},
   "outputs": [
    {
     "data": {
      "text/plain": [
       "AIMessage(content='Okay, let\\'s break down the simple domain of *Jujutsu Kaisen* (JJK). It\\'s surprisingly focused, despite its sprawling battles and complex world-building. Here\\'s a core breakdown:\\n\\n**1. The Mechanics of Cursed Energy & Techniques:**\\n\\n* **Cursed Energy (Jutsuu Kansuu):** This is *the* central element. It\\'s a dark, spiritual energy that permeates the world, born from negative emotions like anger, sorrow, and fear. It\\'s the source of curses and the power of jujutsu sorcerers.\\n* **Cursed Techniques:**  Sorcerers develop unique techniques based on their cursed energy. These techniques are often tied to specific styles, movements, and even the emotions fueling them.  They\\'re not just raw power; they\\'re *expressions* of cursed energy.\\n* **Domain Expansion:** This is a *huge* part of the mechanics. It\\'s a technique where a sorcerer creates a miniature, distorted version of reality within the opponent\\'s mind.  Within the Domain Expansion, the sorcerer gains a massive advantage, essentially controlling the opponent\\'s perception and actions.\\n\\n\\n**2. Core Themes & Conflicts:**\\n\\n* **Human Emotion & Its Consequences:** The series constantly explores how negative emotions – fear, anger, despair – manifest as curses and how they corrupt individuals and society.\\n* **Sacrifice & Duty:** Jujutsu sorcerers are often forced to make immense sacrifices for the greater good, frequently sacrificing their own lives to protect others.\\n* **The Burden of Responsibility:** The protagonists, particularly Yuji, grapple with the immense responsibility of fighting curses and protecting humanity, often at a great personal cost.\\n* **Morality & Justice:** The series questions what constitutes justice and whether it\\'s always about eliminating the \"evil\" (curses) or understanding the root causes of suffering.\\n\\n**3. Key Elements & Groups:**\\n\\n* **The Tokyo Prefectural Jujutsu High School:** The training ground for new sorcerers, where Yuji and his friends learn the fundamentals.\\n* **The Japanese Jujutsu Society:** The organization that oversees and trains jujutsu sorcerers.\\n* **Curses (Obonekono):** The primary antagonists – manifestations of negative emotions. They come in various forms, from simple, aggressive entities to complex, intelligent beings.\\n* **Special Grade Curses:**  Massive, incredibly powerful curses that pose a significant threat to humanity.\\n\\n\\n**In essence, the simple domain of *Jujutsu Kaisen* is about:**\\n\\n* **The battle between human will and corrupted energy.**\\n* **The struggle to control and understand powerful, dangerous forces.**\\n* **The human cost of fighting for what\\'s right.**\\n\\n---\\n\\n**Do you want me to delve deeper into a specific aspect of the domain, such as:**\\n\\n*   Specific Cursed Techniques?\\n*   The different types of Curses?\\n*   The role of Domain Expansion in more detail?', additional_kwargs={}, response_metadata={'model': 'gemma3:4b', 'created_at': '2025-09-05T16:36:40.9575509Z', 'done': True, 'done_reason': 'stop', 'total_duration': 73661711900, 'load_duration': 147081400, 'prompt_eval_count': 14, 'prompt_eval_duration': 465584100, 'eval_count': 626, 'eval_duration': 73047893300, 'model_name': 'gemma3:4b'}, id='run--3c89e0ab-2984-4d25-a1ef-5bf03885705b-0', usage_metadata={'input_tokens': 14, 'output_tokens': 626, 'total_tokens': 640})"
      ]
     },
     "execution_count": 27,
     "metadata": {},
     "output_type": "execute_result"
    }
   ],
   "source": [
    "model.invoke(\"simple domain of JJK\")"
   ]
  },
  {
   "cell_type": "markdown",
   "id": "d0abb2db",
   "metadata": {},
   "source": [
    "Must try structured YES / NO output on the same questions."
   ]
  },
  {
   "cell_type": "code",
   "execution_count": 29,
   "id": "5e0a8d7e",
   "metadata": {},
   "outputs": [],
   "source": [
    "from pydantic import BaseModel\n",
    "from typing import List, Literal\n",
    "\n",
    "class Answer(BaseModel):\n",
    "    response: Literal[\"Yes\", \"No\"]\n",
    "\n",
    "llm_structured = model.with_structured_output(Answer)"
   ]
  },
  {
   "cell_type": "code",
   "execution_count": null,
   "id": "b5678ecf",
   "metadata": {},
   "outputs": [],
   "source": [
    "from langchain_core.prompts import PromptTemplate\n",
    "from langchain_core.messages import SystemMessage, HumanMessage, AIMessage\n",
    "\n",
    "\n",
    "prompt = \"\"\"You are given a query / question. If you understand the query and know about it, Reply with \"Yes\". If you don't have full clarity on the query, or if you don't know about the topic asked, simply return a \"No\".\n",
    "\"\"\"\n",
    "\n",
    "query = \"Lenda Bhai\"\n",
    "\n",
    "answer = llm_structured.invoke([SystemMessage(content=prompt), HumanMessage(content= query)])"
   ]
  },
  {
   "cell_type": "code",
   "execution_count": null,
   "id": "10612964",
   "metadata": {},
   "outputs": [
    {
     "data": {
      "text/plain": [
       "'No'"
      ]
     },
     "execution_count": 31,
     "metadata": {},
     "output_type": "execute_result"
    }
   ],
   "source": [
    "# J-12-Aod\n",
    "answer.response"
   ]
  },
  {
   "cell_type": "code",
   "execution_count": null,
   "id": "985bbe69",
   "metadata": {},
   "outputs": [
    {
     "data": {
      "text/plain": [
       "'No'"
      ]
     },
     "execution_count": 33,
     "metadata": {},
     "output_type": "execute_result"
    }
   ],
   "source": [
    "# Simple Domain in JJK\n",
    "# Corresponds to NO with when it was asked to explain too.\n",
    "answer.response"
   ]
  },
  {
   "cell_type": "code",
   "execution_count": null,
   "id": "639cefe4",
   "metadata": {},
   "outputs": [
    {
     "data": {
      "text/plain": [
       "'No'"
      ]
     },
     "execution_count": 35,
     "metadata": {},
     "output_type": "execute_result"
    }
   ],
   "source": [
    "# Shinji AU\n",
    "answer.response"
   ]
  },
  {
   "cell_type": "code",
   "execution_count": null,
   "id": "1335d06e",
   "metadata": {},
   "outputs": [
    {
     "data": {
      "text/plain": [
       "'Yes'"
      ]
     },
     "execution_count": 37,
     "metadata": {},
     "output_type": "execute_result"
    }
   ],
   "source": [
    "# Dark MAtter\n",
    "answer.response"
   ]
  },
  {
   "cell_type": "code",
   "execution_count": 41,
   "id": "4ec85193",
   "metadata": {},
   "outputs": [
    {
     "data": {
      "text/plain": [
       "'No'"
      ]
     },
     "execution_count": 41,
     "metadata": {},
     "output_type": "execute_result"
    }
   ],
   "source": [
    "# Mond theory\n",
    "answer.response"
   ]
  },
  {
   "cell_type": "code",
   "execution_count": null,
   "id": "43e2c69a",
   "metadata": {},
   "outputs": [
    {
     "data": {
      "text/plain": [
       "'Yes'"
      ]
     },
     "execution_count": 44,
     "metadata": {},
     "output_type": "execute_result"
    }
   ],
   "source": [
    "# Modified Newtonian Dynamics (mond)\n",
    "answer.response"
   ]
  },
  {
   "cell_type": "code",
   "execution_count": null,
   "id": "279fa029",
   "metadata": {},
   "outputs": [
    {
     "data": {
      "text/plain": [
       "'Yes'"
      ]
     },
     "execution_count": 46,
     "metadata": {},
     "output_type": "execute_result"
    }
   ],
   "source": [
    "# Langgraph\n",
    "answer.response"
   ]
  },
  {
   "cell_type": "code",
   "execution_count": 49,
   "id": "a7004210",
   "metadata": {},
   "outputs": [
    {
     "data": {
      "text/plain": [
       "'No'"
      ]
     },
     "execution_count": 49,
     "metadata": {},
     "output_type": "execute_result"
    }
   ],
   "source": [
    "# Shatabdi\n",
    "answer.response"
   ]
  },
  {
   "cell_type": "code",
   "execution_count": 53,
   "id": "3a2f0cde",
   "metadata": {},
   "outputs": [
    {
     "data": {
      "text/plain": [
       "'No'"
      ]
     },
     "execution_count": 53,
     "metadata": {},
     "output_type": "execute_result"
    }
   ],
   "source": [
    "# Lenda Bhai\n",
    "answer.response"
   ]
  },
  {
   "cell_type": "markdown",
   "id": "83c5e1c9",
   "metadata": {},
   "source": [
    "# This itself reduces the Hallucination by like 70 to 80 to 90%"
   ]
  },
  {
   "cell_type": "markdown",
   "id": "ee371ad3",
   "metadata": {},
   "source": [
    "### Case - LLM doesnt know"
   ]
  },
  {
   "cell_type": "code",
   "execution_count": null,
   "id": "8fc7aeda",
   "metadata": {},
   "outputs": [],
   "source": [
    "prompt = \"\"\"What exactly do you mean by {query}? Could you please rephrase it so I am able to understand it better?\"\"\""
   ]
  },
  {
   "cell_type": "markdown",
   "id": "7bf4a4cb",
   "metadata": {},
   "source": [
    "Ok, The user will be asked again for the question, but Yea. \n",
    ".invoke(humanMessage)\n",
    "If no -> AIMessage -> Please can you rephrase it (this mesg will be appended in messagehistory)\n",
    "the human rephrases -> will be appended to message history."
   ]
  },
  {
   "cell_type": "code",
   "execution_count": null,
   "id": "435c9fab",
   "metadata": {},
   "outputs": [],
   "source": []
  }
 ],
 "metadata": {
  "kernelspec": {
   "display_name": "Python 3",
   "language": "python",
   "name": "python3"
  },
  "language_info": {
   "codemirror_mode": {
    "name": "ipython",
    "version": 3
   },
   "file_extension": ".py",
   "mimetype": "text/x-python",
   "name": "python",
   "nbconvert_exporter": "python",
   "pygments_lexer": "ipython3",
   "version": "3.13.5"
  }
 },
 "nbformat": 4,
 "nbformat_minor": 5
}
