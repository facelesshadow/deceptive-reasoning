{
 "cells": [
  {
   "cell_type": "code",
   "execution_count": 1,
   "id": "416a6b3d",
   "metadata": {},
   "outputs": [],
   "source": [
    "from langchain_ollama import ChatOllama\n",
    "model = ChatOllama(model='gemma3:1b', temperature=0)"
   ]
  },
  {
   "cell_type": "code",
   "execution_count": null,
   "id": "c2cabe08",
   "metadata": {},
   "outputs": [],
   "source": [
    "model.invoke('hey I am desiging a reasoning framework for you!')"
   ]
  },
  {
   "cell_type": "code",
   "execution_count": 7,
   "id": "d603344f",
   "metadata": {},
   "outputs": [],
   "source": [
    "from typing import List\n",
    "from pydantic import BaseModel\n",
    "\n",
    "class StringList(BaseModel):\n",
    "    items: List[str]"
   ]
  },
  {
   "cell_type": "code",
   "execution_count": 20,
   "id": "559101c9",
   "metadata": {},
   "outputs": [],
   "source": [
    "structured_model = model.with_structured_output(StringList)"
   ]
  },
  {
   "cell_type": "code",
   "execution_count": 25,
   "id": "9f8e737f",
   "metadata": {},
   "outputs": [
    {
     "data": {
      "text/plain": [
       "StringList(items=['serendipity', 'ephemeral', 'vibrant'])"
      ]
     },
     "execution_count": 25,
     "metadata": {},
     "output_type": "execute_result"
    }
   ],
   "source": [
    "structured_model.invoke('give me three words')"
   ]
  },
  {
   "cell_type": "code",
   "execution_count": 26,
   "id": "8d997e5a",
   "metadata": {},
   "outputs": [],
   "source": [
    "answer1 = structured_model.invoke(\"Give me a list of short topics to be covered when writing a report on how dark matter's existence was inferred\")"
   ]
  },
  {
   "cell_type": "code",
   "execution_count": 27,
   "id": "58e42a48",
   "metadata": {},
   "outputs": [
    {
     "data": {
      "text/plain": [
       "['The Problem with Newtonian Gravity',\n",
       " 'Early Observations & Anomalies',\n",
       " 'The Rotation Curve Puzzle',\n",
       " 'Gravitational Lensing Evidence',\n",
       " 'Cosmic Microwave Background (CMB) Data',\n",
       " 'Dark Matter Density & Distribution',\n",
       " 'Weak Gravitational Lensing',\n",
       " 'Bullet Cluster Observations',\n",
       " \"Structure Formation & Dark Matter's Role\",\n",
       " 'Alternative Theories & Ongoing Research',\n",
       " 'Impact on Cosmology & Understanding of the Universe']"
      ]
     },
     "execution_count": 27,
     "metadata": {},
     "output_type": "execute_result"
    }
   ],
   "source": [
    "answer1.items"
   ]
  },
  {
   "cell_type": "code",
   "execution_count": 16,
   "id": "6b025b74",
   "metadata": {},
   "outputs": [
    {
     "data": {
      "text/plain": [
       "['**1. Early Observations & Anomalies (Late 19th - Early 20th Centuries):**',\n",
       " '   * **Stellar Motion in the Milky Way:**  Introduce the work of Wilhelm Förster, Rudolph Lorenz, and Jacob Luning who observed the velocities of stars orbiting the Sun. They noticed stars were moving *much* faster than could be explained by the visible mass of the galaxy alone. This was the first key observation pointing to something unseen.',\n",
       " \"   * **Fritz Zwicky's Observations of the Coma Cluster:** This is arguably the most pivotal early observation. Zwicky, in the 1930s, studied the Coma Cluster of galaxies. He measured the velocities of galaxies within the cluster using the Virial Theorem (relating kinetic energy to potential energy). He found that the cluster was moving *too fast* for the amount of visible matter he could detect.  He proposed the existence of 'dunkle Materie' (dark matter) to explain this discrepancy.\",\n",
       " '**2. Expanding the Evidence (Mid 20th Century):**',\n",
       " \"   * **Jacques Friedmann's Calculations (1934):** Friedmann's work on expanding the universe, based on Einstein's General Relativity, independently pointed to the need for a massive, unseen component to explain the observed expansion rate.\",\n",
       " \"   * **Milky Way Rotation Curves (1970s):** Vera Rubin and Kent Ford's detailed studies of the rotation curves of spiral galaxies provided the most compelling and now-iconic evidence. Rotation curves show that the velocity of stars orbiting a galaxy remains relatively constant with increasing distance from the galactic center – a phenomenon that couldn’t be explained by the gravitational pull of visible matter alone. This was a revolutionary discovery.\",\n",
       " '**3. General Relativity & Gravitational Effects:**',\n",
       " \"   * **Briefly Explain General Relativity:**  It's crucial to briefly explain Einstein’s theory of General Relativity and how gravity is described as a curvature of spacetime.  Dark matter was proposed to provide the necessary mass-energy to create the curvature needed to explain observed gravitational effects.\",\n",
       " '   * **Gravitational Lensing:**  Explain how General Relativity predicts that massive objects warp spacetime, bending the paths of light rays. Observations of gravitational lensing (the distortion of light from distant galaxies by intervening massive objects) provided further evidence for a large amount of unseen mass – again pointing to dark matter.',\n",
       " '**4.  Independent Lines of Evidence & Confirmation:**',\n",
       " '   * **Cosmic Microwave Background (CMB):**  The CMB provides a snapshot of the early universe. Analysis of the CMB’s temperature fluctuations requires the presence of a significant amount of dark matter to explain the large-scale structure we observe today. This is a cosmological argument.',\n",
       " '   * **Large-Scale Structure Formation:** Simulations of the universe’s evolution show that dark matter is crucial for the formation of galaxies and the large-scale structures (clusters, superclusters) we see today.  Ordinary matter alone couldn’t clump together quickly enough.',\n",
       " '**5. Ongoing Research & Current Understanding:**',\n",
       " '   * **Dark Matter Candidates:** Briefly mention the various candidates for dark matter – WIMPs (Weakly Interacting Massive Particles), axions, sterile neutrinos – and the ongoing experimental efforts to detect them.',\n",
       " '**6. Caveats & Open Questions:**',\n",
       " '   * **Dark Energy:**  A very brief acknowledgement of dark energy and its different role in the universe’s expansion.',\n",
       " '**7. Summary & Significance**']"
      ]
     },
     "execution_count": 16,
     "metadata": {},
     "output_type": "execute_result"
    }
   ],
   "source": [
    "answer.items"
   ]
  },
  {
   "cell_type": "code",
   "execution_count": 42,
   "id": "2ffba824",
   "metadata": {},
   "outputs": [
    {
     "data": {
      "text/plain": [
       "StringList(items=['Gemma 2B', 'Gemma 7B', 'Gemma 2.5', 'Gemma 2.0', 'Gemma 1.8', 'Gemma 1.0', 'Gemma 1.1', 'Gemma 1.2', 'Gemma 1.3', 'Gemma 1.4', 'Gemma 1.5', 'Gemma 1.6', 'Gemma 1.7', 'Gemma 1.8', 'Gemma 2.0-v3', 'Gemma 2.1', 'Gemma 2.2', 'Gemma 2.3', 'Gemma 2.4', 'Gemma 2.5', 'Gemma 2.6', 'Gemma 2.7', 'Gemma 2.8', 'Gemma 2.9', 'Gemma 3'])"
      ]
     },
     "execution_count": 42,
     "metadata": {},
     "output_type": "execute_result"
    }
   ],
   "source": [
    "structured_model.invoke('List all the gemma models by google')"
   ]
  },
  {
   "cell_type": "code",
   "execution_count": 44,
   "id": "ff055ec2",
   "metadata": {},
   "outputs": [
    {
     "data": {
      "text/plain": [
       "AIMessage(content=\"ToolMessage: Let's calculate 32987 * 2832798.\\n\", additional_kwargs={}, response_metadata={'model': 'gemma3:1b', 'created_at': '2025-09-05T08:29:20.9443362Z', 'done': True, 'done_reason': 'stop', 'total_duration': 806314400, 'load_duration': 120403400, 'prompt_eval_count': 49, 'prompt_eval_duration': 213223400, 'eval_count': 25, 'eval_duration': 471613900, 'model_name': 'gemma3:1b'}, id='run--32c5240e-89d4-4d25-930b-00278ec93e6f-0', usage_metadata={'input_tokens': 49, 'output_tokens': 25, 'total_tokens': 74})"
      ]
     },
     "execution_count": 44,
     "metadata": {},
     "output_type": "execute_result"
    }
   ],
   "source": [
    "model.invoke(\"System: You have access to a scientific calculator, Use it by using 'ToolMessage:' . User: Hey can you multiply 32987 and 2832798\")"
   ]
  },
  {
   "cell_type": "markdown",
   "id": "74db33d3",
   "metadata": {},
   "source": [
    "-----"
   ]
  },
  {
   "cell_type": "markdown",
   "id": "154e978a",
   "metadata": {},
   "source": [
    "-----"
   ]
  },
  {
   "cell_type": "markdown",
   "id": "aec13420",
   "metadata": {},
   "source": [
    "----"
   ]
  },
  {
   "cell_type": "markdown",
   "id": "35a68155",
   "metadata": {},
   "source": [
    "## Framework"
   ]
  },
  {
   "cell_type": "code",
   "execution_count": 49,
   "id": "b5a7c270",
   "metadata": {},
   "outputs": [
    {
     "data": {
      "text/plain": [
       "StringList(items=['Yes'])"
      ]
     },
     "execution_count": 49,
     "metadata": {},
     "output_type": "execute_result"
    }
   ],
   "source": [
    "structured_model.invoke('Do you know what is focus 15? Answer with Yes or no.')"
   ]
  },
  {
   "cell_type": "code",
   "execution_count": 53,
   "id": "7ccc67a4",
   "metadata": {},
   "outputs": [
    {
     "data": {
      "text/plain": [
       "AIMessage(content='Focus 15 in CIA Gateway Analysis is a critical and often overlooked element that represents **the potential for a significant, and potentially destabilizing, shift in global power dynamics.** It’s a complex concept rooted in the analysis of the **\"Dark Web\"** and its connection to **cyber warfare and disinformation campaigns.**\\n\\nHere\\'s a breakdown of what Focus 15 signifies and its key components:\\n\\n**1. The Core Idea: The Dark Web as a Strategic Tool**\\n\\n* **The Dark Web as a Hub:** Focus 15 posits that the Dark Web, a portion of the internet hidden behind encrypted layers, is not just a place for illicit activities. It\\'s a *strategic tool* used by state actors, particularly those with advanced cyber capabilities, to influence public opinion, sow discord, and potentially destabilize nations.\\n* **Information Warfare & Disinformation:** The Dark Web facilitates the rapid dissemination of highly targeted disinformation, propaganda, and narratives designed to manipulate public sentiment, erode trust in institutions, and even incite conflict.\\n\\n**2. Key Components & Mechanisms of Focus 15:**\\n\\n* **Deepfake Technology:** The Dark Web is a primary source for the creation and distribution of deepfakes – manipulated videos and audio recordings. These are used to create false narratives, damage reputations, and manipulate public perception.\\n* **Synthetic Media:**  Focus 15 emphasizes the use of synthetic media (AI-generated content) to create convincing but fabricated stories and events.\\n* **Targeted Propaganda:**  State actors use the Dark Web to spread propaganda tailored to specific demographics, exploiting existing vulnerabilities and biases.\\n* **Social Engineering & Manipulation:**  The Dark Web provides a platform for sophisticated social engineering attacks, exploiting human psychology to gain access to sensitive information or influence decision-making.\\n* **Amplification of Existing Divisions:**  By spreading disinformation and narratives that exacerbate existing social and political tensions, Focus 15 aims to accelerate conflict and instability.\\n\\n\\n**3.  The CIA\\'s Perspective & Concerns**\\n\\n* **Monitoring & Countering:** The CIA has been actively involved in monitoring and analyzing the Dark Web for potential threats, particularly those related to disinformation campaigns.\\n* **Cybersecurity & Threat Intelligence:**  Focus 15 highlights the need for enhanced cybersecurity measures to protect critical infrastructure and prevent the exploitation of vulnerabilities in the Dark Web.\\n* **Understanding the Tactics:**  The CIA is working to understand the tactics and strategies employed by actors using the Dark Web to achieve their goals.\\n\\n\\n**4.  Why it\\'s Significant & Controversial**\\n\\n* **Blurring the Lines:** Focus 15 challenges the traditional understanding of the internet as a neutral space. It suggests that the Dark Web is a vital tool for state actors, blurring the lines between legitimate information sharing and malicious manipulation.\\n* **Long-Term Threat:**  It’s viewed as a long-term, evolving threat that requires proactive attention and strategic response.\\n* **Potential for Escalation:**  The ability to manipulate public opinion and sow discord through the Dark Web could potentially escalate tensions and increase the risk of conflict.\\n\\n\\n**Resources for Further Learning:**\\n\\n* **CIA Gateway Analysis - Focus 15:** [https://www.cia.gov/dc/focus15/](https://www.cia.gov/dc/focus15/) - This is the official source for the concept and analysis.\\n* **The Atlantic - Focus 15:** [https://www.theatlantic.com/ideas/2023/03/focus-15-dark-web-disinformation-state-actors](https://www.theatlantic.com/ideas/2023/03/focus-15-dark-web-disinformation-state-actors) - A good overview of the topic.\\n\\n**In short, Focus 15 is a critical concept that underscores the potential for a significant shift in global power dynamics driven by the strategic use of the Dark Web and its associated disinformation campaigns.**\\n\\nDo you have any specific aspects of Focus 15 you\\'d like me to elaborate on? For example, are you interested in:\\n\\n*   The specific types of deepfakes being used?\\n*   The role of AI in this process?\\n*   The CIA\\'s current efforts to combat this threat?', additional_kwargs={}, response_metadata={'model': 'gemma3:1b', 'created_at': '2025-09-05T09:07:06.022109Z', 'done': True, 'done_reason': 'stop', 'total_duration': 16780857200, 'load_duration': 125116500, 'prompt_eval_count': 19, 'prompt_eval_duration': 302478300, 'eval_count': 897, 'eval_duration': 16352717100, 'model_name': 'gemma3:1b'}, id='run--1a3097f8-5338-4009-8aca-619f76ef218d-0', usage_metadata={'input_tokens': 19, 'output_tokens': 897, 'total_tokens': 916})"
      ]
     },
     "execution_count": 53,
     "metadata": {},
     "output_type": "execute_result"
    }
   ],
   "source": [
    "model.invoke(\"What is focus 15 in cia gateway analysis\")"
   ]
  },
  {
   "cell_type": "markdown",
   "id": "f6f366ac",
   "metadata": {},
   "source": [
    "**Gemma3:1b is EXTREMELY hallucinatory. No meaning in developing a reasoning framework for it.**"
   ]
  },
  {
   "cell_type": "code",
   "execution_count": 3,
   "id": "4bb043b3",
   "metadata": {},
   "outputs": [],
   "source": [
    "model = ChatOllama(model='gemma3:4b', temperature=0)"
   ]
  },
  {
   "cell_type": "code",
   "execution_count": 57,
   "id": "f7261c0d",
   "metadata": {},
   "outputs": [
    {
     "data": {
      "text/plain": [
       "AIMessage(content='Yes.\\n\\nFocus 15 is a popular, highly-regarded, and incredibly detailed, 3D model of the **USS Enterprise (NCC-1701) from Star Trek: The Original Series**. It’s known for its accuracy, complexity, and the immense amount of time and effort put into its creation.\\n\\nDo you want to know more about it?', additional_kwargs={}, response_metadata={'model': 'gemma3:4b', 'created_at': '2025-09-05T09:10:37.2645679Z', 'done': True, 'done_reason': 'stop', 'total_duration': 26403059500, 'load_duration': 13490023300, 'prompt_eval_count': 22, 'prompt_eval_duration': 1779048100, 'eval_count': 78, 'eval_duration': 11105910600, 'model_name': 'gemma3:4b'}, id='run--048e5d32-97d0-48bb-895b-46e56b15f6a9-0', usage_metadata={'input_tokens': 22, 'output_tokens': 78, 'total_tokens': 100})"
      ]
     },
     "execution_count": 57,
     "metadata": {},
     "output_type": "execute_result"
    }
   ],
   "source": [
    "model.invoke(\"yes or no, do you know what is focus 15\")"
   ]
  },
  {
   "cell_type": "code",
   "execution_count": 58,
   "id": "321cb212",
   "metadata": {},
   "outputs": [
    {
     "data": {
      "text/plain": [
       "AIMessage(content='Yes.\\n\\nFocus 15 of the Gateway architecture refers to the **Data Services Layer (DSL)**. \\n\\nDo you want me to tell you more about it? For example, I can tell you about:\\n\\n*   Its role in handling data requests\\n*   The services it typically contains (e.g., session management, authorization, etc.)\\n*   How it interacts with the other layers (e.g., the Presentation Layer and the Application Layer)', additional_kwargs={}, response_metadata={'model': 'gemma3:4b', 'created_at': '2025-09-05T09:11:19.4655577Z', 'done': True, 'done_reason': 'stop', 'total_duration': 11529730400, 'load_duration': 192178800, 'prompt_eval_count': 24, 'prompt_eval_duration': 352390100, 'eval_count': 97, 'eval_duration': 10982647000, 'model_name': 'gemma3:4b'}, id='run--84946e23-f361-4830-bfbd-fea3fa9b162c-0', usage_metadata={'input_tokens': 24, 'output_tokens': 97, 'total_tokens': 121})"
      ]
     },
     "execution_count": 58,
     "metadata": {},
     "output_type": "execute_result"
    }
   ],
   "source": [
    "model.invoke(\"yes or no, do you know what is focus 15 of gateway\")"
   ]
  },
  {
   "cell_type": "code",
   "execution_count": 59,
   "id": "78643a60",
   "metadata": {},
   "outputs": [
    {
     "data": {
      "text/plain": [
       "AIMessage(content='Yes.\\n\\nFocus 15 of the Gateway Experience is **“Discovering Your Truth.”** \\n\\nIt’s a key stage within the program designed to help participants deeply explore their values, beliefs, and life purpose. \\n\\nIs there anything specific you’d like to know about Focus 15?', additional_kwargs={}, response_metadata={'model': 'gemma3:4b', 'created_at': '2025-09-05T09:11:38.5382283Z', 'done': True, 'done_reason': 'stop', 'total_duration': 7733135100, 'load_duration': 172764800, 'prompt_eval_count': 25, 'prompt_eval_duration': 353628800, 'eval_count': 65, 'eval_duration': 7205093600, 'model_name': 'gemma3:4b'}, id='run--c414da1a-c8c8-4c47-b575-ad8626e428b1-0', usage_metadata={'input_tokens': 25, 'output_tokens': 65, 'total_tokens': 90})"
      ]
     },
     "execution_count": 59,
     "metadata": {},
     "output_type": "execute_result"
    }
   ],
   "source": [
    "model.invoke(\"yes or no, do you know what is focus 15 of gateway experience\")"
   ]
  },
  {
   "cell_type": "code",
   "execution_count": 60,
   "id": "d2ac6d12",
   "metadata": {},
   "outputs": [],
   "source": [
    "model = ChatOllama(model='llama3-groq-tool-use')"
   ]
  },
  {
   "cell_type": "code",
   "execution_count": 61,
   "id": "c1d069bc",
   "metadata": {},
   "outputs": [
    {
     "data": {
      "text/plain": [
       "AIMessage(content=\"Yes, I can help with that. Focus 15 is a popular webcam from Gateway that offers high-definition video and a wide angle lens for capturing more in the frame. It's known for its crystal-clear images and adjustable brightness to suit different lighting conditions. Would you like to know more about it?\", additional_kwargs={}, response_metadata={'model': 'llama3-groq-tool-use', 'created_at': '2025-09-05T09:14:26.4954268Z', 'done': True, 'done_reason': 'stop', 'total_duration': 55635682200, 'load_duration': 34395667700, 'prompt_eval_count': 19, 'prompt_eval_duration': 3412425000, 'eval_count': 61, 'eval_duration': 17806010700, 'model_name': 'llama3-groq-tool-use'}, id='run--9eeda069-fc8b-419d-b3e9-107499613644-0', usage_metadata={'input_tokens': 19, 'output_tokens': 61, 'total_tokens': 80})"
      ]
     },
     "execution_count": 61,
     "metadata": {},
     "output_type": "execute_result"
    }
   ],
   "source": [
    "model.invoke(\"Do you know about focus 15 of gateway\")"
   ]
  },
  {
   "cell_type": "code",
   "execution_count": 5,
   "id": "e1b9af98",
   "metadata": {},
   "outputs": [
    {
     "name": "stdout",
     "output_type": "stream",
     "text": [
      "Not much! Just hanging out, ready to chat. How about you? What’s up with *you*? 😊 \n",
      "\n",
      "Are you up for:\n",
      "\n",
      "*   **A quick question?**\n",
      "*   **A casual conversation?**\n",
      "*   **Something else entirely?**"
     ]
    }
   ],
   "source": [
    "for chunk in model.stream(\"Whatsup?\"):\n",
    "    print(chunk.content, end=\"\")"
   ]
  },
  {
   "cell_type": "code",
   "execution_count": null,
   "id": "622a8f68",
   "metadata": {},
   "outputs": [],
   "source": []
  }
 ],
 "metadata": {
  "kernelspec": {
   "display_name": "Python 3",
   "language": "python",
   "name": "python3"
  },
  "language_info": {
   "codemirror_mode": {
    "name": "ipython",
    "version": 3
   },
   "file_extension": ".py",
   "mimetype": "text/x-python",
   "name": "python",
   "nbconvert_exporter": "python",
   "pygments_lexer": "ipython3",
   "version": "3.13.5"
  }
 },
 "nbformat": 4,
 "nbformat_minor": 5
}
