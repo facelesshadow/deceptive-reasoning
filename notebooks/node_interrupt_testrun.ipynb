{
 "cells": [
  {
   "cell_type": "code",
   "execution_count": 5,
   "id": "270db3de",
   "metadata": {},
   "outputs": [],
   "source": [
    "from langgraph.graph import START, END, StateGraph\n",
    "from typing import TypedDict, Literal\n",
    "from langgraph.types import interrupt\n",
    "\n",
    "class State(TypedDict):\n",
    "    a: int"
   ]
  },
  {
   "cell_type": "code",
   "execution_count": 9,
   "id": "dd5b118f",
   "metadata": {},
   "outputs": [],
   "source": [
    "def main_node(state):\n",
    "    print(\"I am a worthless main_node\")\n",
    "    return ({'a': state['a'] + 5})\n",
    "\n",
    "def condition(state) -> Literal['__end__', 'interrupt_node']:\n",
    "    if(state['a']) < 10:\n",
    "        return \"__end__\"\n",
    "    else:\n",
    "        return \"interrupt_node\"\n",
    "    \n",
    "def interrupt_node(state):\n",
    "    user_value = interrupt(\"Please Fuck Yourself in the ass: \")\n",
    "    return ({'a': user_value})"
   ]
  },
  {
   "cell_type": "code",
   "execution_count": 10,
   "id": "e478ca74",
   "metadata": {},
   "outputs": [],
   "source": [
    "builder = StateGraph(State)\n",
    "\n",
    "builder.add_node('main_node', main_node)\n",
    "builder.add_node('interrupt_node', interrupt_node)\n",
    "\n",
    "builder.add_edge(START, \"main_node\")\n",
    "builder.add_conditional_edges(\"main_node\", condition)\n",
    "builder.add_edge('interrupt_node', 'main_node')\n",
    "\n",
    "graph = builder.compile()"
   ]
  },
  {
   "cell_type": "code",
   "execution_count": 11,
   "id": "c0d43267",
   "metadata": {},
   "outputs": [
    {
     "name": "stdout",
     "output_type": "stream",
     "text": [
      "I am a worthless main_node\n"
     ]
    },
    {
     "data": {
      "text/plain": [
       "{'a': 6}"
      ]
     },
     "execution_count": 11,
     "metadata": {},
     "output_type": "execute_result"
    }
   ],
   "source": [
    "graph.invoke({'a': 1})"
   ]
  },
  {
   "cell_type": "code",
   "execution_count": 12,
   "id": "6fd3ad5d",
   "metadata": {},
   "outputs": [
    {
     "name": "stdout",
     "output_type": "stream",
     "text": [
      "I am a worthless main_node\n"
     ]
    },
    {
     "data": {
      "text/plain": [
       "{'a': 15,\n",
       " '__interrupt__': [Interrupt(value='Please Fuck Yourself in the ass: ', id='112863335a48bba62128c98212cc36cd')]}"
      ]
     },
     "execution_count": 12,
     "metadata": {},
     "output_type": "execute_result"
    }
   ],
   "source": [
    "graph.invoke({'a': 10})"
   ]
  },
  {
   "cell_type": "code",
   "execution_count": 14,
   "id": "54a9ee21",
   "metadata": {},
   "outputs": [
    {
     "data": {
      "image/png": "[encoded data removed]",
      "text/plain": [
       "<IPython.core.display.Image object>"
      ]
     },
     "execution_count": 14,
     "metadata": {},
     "output_type": "execute_result"
    }
   ],
   "source": [
    "from IPython.display import Image\n",
    "from langgraph.graph import END, StateGraph, START\n",
    "\n",
    "\n",
    "Image(graph.get_graph().draw_mermaid_png())"
   ]
  },
  {
   "cell_type": "code",
   "execution_count": null,
   "id": "310ee631",
   "metadata": {},
   "outputs": [],
   "source": [
    "builder.compile()"
   ]
  },
  {
   "cell_type": "code",
   "execution_count": null,
   "id": "6831967a",
   "metadata": {},
   "outputs": [],
   "source": []
  }
 ],
 "metadata": {
  "kernelspec": {
   "display_name": "Python 3",
   "language": "python",
   "name": "python3"
  },
  "language_info": {
   "codemirror_mode": {
    "name": "ipython",
    "version": 3
   },
   "file_extension": ".py",
   "mimetype": "text/x-python",
   "name": "python",
   "nbconvert_exporter": "python",
   "pygments_lexer": "ipython3",
   "version": "3.13.5"
  }
 },
 "nbformat": 4,
 "nbformat_minor": 5
}
