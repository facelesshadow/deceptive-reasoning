{
 "cells": [
  {
   "cell_type": "code",
   "execution_count": 1,
   "id": "501ca213",
   "metadata": {},
   "outputs": [],
   "source": [
    "from langchain_ollama import ChatOllama\n",
    "model = ChatOllama(model='gemma3:1b', temperature=0)"
   ]
  },
  {
   "cell_type": "code",
   "execution_count": null,
   "id": "6644dae3",
   "metadata": {},
   "outputs": [],
   "source": [
    "from pydantic import BaseModel\n",
    "from typing import List, Literal\n",
    "\n",
    "class Answer(BaseModel):\n",
    "    response: Literal[\"Yes\", \"No\"]\n",
    "\n",
    "model_yn = model.with_structured_output(Answer)"
   ]
  },
  {
   "cell_type": "code",
   "execution_count": 4,
   "id": "5613fc44",
   "metadata": {},
   "outputs": [
    {
     "data": {
      "text/plain": [
       "Answer(response='No')"
      ]
     },
     "execution_count": 4,
     "metadata": {},
     "output_type": "execute_result"
    }
   ],
   "source": [
    "from langchain_core.messages import HumanMessage, SystemMessage, AIMessage\n",
    "\n",
    "prompt = \"\"\"You are given a query / task. If you understand the query / have knowledge about the topic, return a 'Yes'.\n",
    "If you don't have clarity on the asked topic / query, simply return a 'No'.\n",
    "\"\"\"\n",
    "\n",
    "model_yn.invoke([SystemMessage(content=prompt), HumanMessage(content = \"Do you know about lkjdl\")])"
   ]
  },
  {
   "cell_type": "code",
   "execution_count": null,
   "id": "00e8de2d",
   "metadata": {},
   "outputs": [],
   "source": [
    "from langgraph.graph import MessagesState, START, END, StateGraph\n",
    "from typing import Literal, List, Annotated\n",
    "import operator\n",
    "\n",
    "class State(MessagesState):\n",
    "    answers: Annotated[List[Literal[\"Yes\", \"No\"]], operator.add]\n",
    "    problems: Annotated[list[str], operator.add]\n",
    "    solutions: Annotated[list[str], operator.add]\n",
    "    final_ans: str"
   ]
  },
  {
   "cell_type": "code",
   "execution_count": 6,
   "id": "8dd62775",
   "metadata": {},
   "outputs": [],
   "source": [
    "class Solutions(BaseModel):\n",
    "    solutions: List[str]\n",
    "\n",
    "\n",
    "solutions_model = model.with_structured_output(Solutions)"
   ]
  },
  {
   "cell_type": "code",
   "execution_count": 10,
   "id": "166385f0",
   "metadata": {},
   "outputs": [],
   "source": [
    "def assistant(state):\n",
    "    prompt = \"\"\"You are given a query / task. If you understand the query / have knowledge about the topic, return a 'Yes'.\n",
    "    If you don't have clarity on the asked topic / query, simply return a 'No'.\n",
    "    \"\"\"\n",
    "    response = model_yn.invoke([SystemMessage(content=prompt), state['messages'][-1]])\n",
    "    return({'answers':[response.response]})\n",
    "\n",
    "def check(state) -> Literal['solution_planner', 'fallback']:\n",
    "    if(state['answers'][-1] == 'Yes'):\n",
    "        return \"solution_planner\"\n",
    "    elif(state['answers'][-1] == 'No'):\n",
    "        return 'fallback'\n",
    "    \n",
    "def fallback(state):\n",
    "    user_value = input(f\"Can you rephrase your question '{state['messages'][-1]}': \")\n",
    "\n",
    "    prompt = \"\"\"You are given a query / task. If you understand the query / have knowledge about the topic, return a 'Yes'.\n",
    "    If you don't have clarity on the asked topic / query, simply return a 'No'.\n",
    "    \"\"\"\n",
    "    response = model_yn.invoke([SystemMessage(content=prompt), user_value])\n",
    "\n",
    "    return ({'messages': HumanMessage(content=user_value), 'answers': [response.response]})\n",
    "\n",
    "def solution_planner(state):\n",
    "    prompt = '''You are a problem solving planner. You are given a query / task by the user. \n",
    "    You have to break the problem down into smaller problems, and return all the smaller problems. \n",
    "    Each smaller problem statement should be as small as possible, and all of them combined should totally cover the whole problem.\n",
    "    '''\n",
    "\n",
    "    solutions = solutions_model.invoke([SystemMessage(content=prompt), state['messages'][-1]])\n",
    "    return ({'problems': solutions.solutions})"
   ]
  },
  {
   "cell_type": "code",
   "execution_count": 11,
   "id": "c650e846",
   "metadata": {},
   "outputs": [],
   "source": [
    "builder = StateGraph(State)\n",
    "\n",
    "builder.add_node(\"assistant\", assistant)\n",
    "builder.add_node('fallback', fallback)\n",
    "builder.add_node('solution_planner', solution_planner)\n",
    "\n",
    "builder.add_edge(START, 'assistant')\n",
    "builder.add_conditional_edges('assistant', check)\n",
    "builder.add_conditional_edges('fallback', check)\n",
    "builder.add_edge(\"solution_planner\", END)\n",
    "\n",
    "graph = builder.compile()"
   ]
  },
  {
   "cell_type": "code",
   "execution_count": 13,
   "id": "342c15c8",
   "metadata": {},
   "outputs": [],
   "source": [
    "from langchain_core.messages import HumanMessage"
   ]
  },
  {
   "cell_type": "code",
   "execution_count": 14,
   "id": "aa75104a",
   "metadata": {},
   "outputs": [
    {
     "data": {
      "text/plain": [
       "{'messages': [HumanMessage(content='what is the capital of france?', additional_kwargs={}, response_metadata={}, id='72bb9ff5-27d9-4873-b296-23d58d4bf054')],\n",
       " 'answers': ['Yes'],\n",
       " 'problems': ['Identify the country: France',\n",
       "  'Determine the capital city of France: Paris'],\n",
       " 'solutions': []}"
      ]
     },
     "execution_count": 14,
     "metadata": {},
     "output_type": "execute_result"
    }
   ],
   "source": [
    "graph.invoke({'messages': HumanMessage(content='what is the capital of france?')})"
   ]
  },
  {
   "cell_type": "markdown",
   "id": "7795e0e5",
   "metadata": {},
   "source": [
    "## Now with Map Reduce"
   ]
  },
  {
   "cell_type": "code",
   "execution_count": 58,
   "id": "45a03256",
   "metadata": {},
   "outputs": [],
   "source": [
    "class State(MessagesState):\n",
    "    answers: Annotated[List[Literal[\"Yes\", \"No\"]], operator.add]\n",
    "    problems: list\n",
    "    solutions: Annotated[list, operator.add]\n",
    "    final_ans: str"
   ]
  },
  {
   "cell_type": "code",
   "execution_count": 47,
   "id": "c18cab6e",
   "metadata": {},
   "outputs": [],
   "source": [
    "from langgraph.types import Send"
   ]
  },
  {
   "cell_type": "code",
   "execution_count": 54,
   "id": "4f92b289",
   "metadata": {},
   "outputs": [],
   "source": [
    "from typing import TypedDict\n",
    "\n",
    "class SolvingState(TypedDict):\n",
    "    # messages: list  # if you're passing chat history through state\n",
    "    what: str"
   ]
  },
  {
   "cell_type": "code",
   "execution_count": 78,
   "id": "c057cdc4",
   "metadata": {},
   "outputs": [],
   "source": [
    "def assistant(state):\n",
    "    prompt = \"\"\"You are given a query / task. If you understand the query / have knowledge about the topic, return a 'Yes'.\n",
    "    If you don't have clarity on the asked topic / query, simply return a 'No'.\n",
    "    \"\"\"\n",
    "    response = model_yn.invoke([SystemMessage(content=prompt), state['messages'][-1]])\n",
    "    return({'answers':[response.response]})\n",
    "\n",
    "def check(state) -> Literal['solution_planner', 'fallback']:\n",
    "    if(state['answers'][-1] == 'Yes'):\n",
    "        return \"solution_planner\"\n",
    "    elif(state['answers'][-1] == 'No'):\n",
    "        return 'fallback'\n",
    "    \n",
    "def fallback(state):\n",
    "    user_value = input(f\"Can you rephrase your question '{state['messages'][-1]}': \")\n",
    "\n",
    "    prompt = \"\"\"You are given a query / task. If you understand the query / have knowledge about the topic, return a 'Yes'.\n",
    "    If you don't have clarity on the asked topic / query, simply return a 'No'.\n",
    "    \"\"\"\n",
    "    response = model_yn.invoke([SystemMessage(content=prompt), user_value])\n",
    "\n",
    "    return ({'messages': HumanMessage(content=user_value), 'answers': [response.response]})\n",
    "\n",
    "def solution_planner(state):\n",
    "    prompt = '''You are a problem solving planner. You are given a query / task by the user. \n",
    "    You have to break the problem down into smaller problems, and return all the smaller problems. \n",
    "    Each smaller problem statement should be as small as possible, and all of them combined should totally cover the whole problem.\n",
    "    '''\n",
    "\n",
    "    solutions = solutions_model.invoke([SystemMessage(content=prompt), state['messages'][-1]])\n",
    "    return ({'problems': solutions.solutions})\n",
    "\n",
    "def reduce1(state):\n",
    "    return [\n",
    "        Send(\"solving_node\", {**state, \"problems\": p})\n",
    "        for p in state[\"problems\"]\n",
    "    ]\n",
    "    \n",
    "\n",
    "def solving_node(state: SolvingState):\n",
    "    print(\"Solving Node\")\n",
    "    prompt = \"\"\"You are a problem solver. Given the main problem statement, and a smaller part of the problem, \n",
    "    You are to solve the SMALLER part of the problem in max 30 words.\n",
    "    \"\"\"\n",
    "    human_prompt = f\"\"\"Problem Statement: \"{state['messages'][-1].content}\"\n",
    "    Smaller Problem: \n",
    "    \"\"\"\n",
    "    \n",
    "    answer = model.invoke([SystemMessage(content=prompt), HumanMessage(content=human_prompt)])\n",
    "    return ({'solutions': [answer.content]})"
   ]
  },
  {
   "cell_type": "code",
   "execution_count": null,
   "id": "ad203971",
   "metadata": {},
   "outputs": [],
   "source": [
    "builder = StateGraph(State)\n",
    "\n",
    "builder.add_node(\"assistant\", assistant)\n",
    "builder.add_node('fallback', fallback)\n",
    "builder.add_node('solution_planner', solution_planner)\n",
    "builder.add_node('solving_node', solving_node)i\n",
    "\n",
    "builder.add_edge(START, 'assistant')\n",
    "builder.add_conditional_edges('assistant', check)\n",
    "builder.add_conditional_edges('fallback', check)\n",
    "builder.add_conditional_edges(\"solution_planner\", reduce1, [\"solving_node\"])\n",
    "builder.add_edge('solving_node', END)\n",
    "\n",
    "graph = builder.compile()"
   ]
  },
  {
   "cell_type": "code",
   "execution_count": 80,
   "id": "ce89c5d2",
   "metadata": {},
   "outputs": [
    {
     "name": "stdout",
     "output_type": "stream",
     "text": [
      "Solving Node\n",
      "Solving Node\n"
     ]
    },
    {
     "data": {
      "text/plain": [
       "{'messages': [HumanMessage(content='what is the capital of france?', additional_kwargs={}, response_metadata={}, id='5ade2ef0-186e-4b85-8c85-eee3c86a7bb1')],\n",
       " 'answers': ['Yes'],\n",
       " 'problems': ['Identify the country: France',\n",
       "  'Determine the capital city of France: Paris'],\n",
       " 'solutions': ['Paris is the capital of France.',\n",
       "  'Paris is the capital of France.']}"
      ]
     },
     "execution_count": 80,
     "metadata": {},
     "output_type": "execute_result"
    }
   ],
   "source": [
    "graph.invoke({'messages': HumanMessage(content='what is the capital of france?')})"
   ]
  },
  {
   "cell_type": "code",
   "execution_count": 81,
   "id": "c8f8af6f",
   "metadata": {},
   "outputs": [
    {
     "data": {
      "image/png": "[encoded data removed]",
      "text/plain": [
       "<langgraph.graph.state.CompiledStateGraph object at 0x000001BC367F9BD0>"
      ]
     },
     "execution_count": 81,
     "metadata": {},
     "output_type": "execute_result"
    }
   ],
   "source": [
    "builder.compile()"
   ]
  },
  {
   "cell_type": "code",
   "execution_count": null,
   "id": "6a89cc49",
   "metadata": {},
   "outputs": [],
   "source": []
  }
 ],
 "metadata": {
  "kernelspec": {
   "display_name": "Python 3",
   "language": "python",
   "name": "python3"
  },
  "language_info": {
   "codemirror_mode": {
    "name": "ipython",
    "version": 3
   },
   "file_extension": ".py",
   "mimetype": "text/x-python",
   "name": "python",
   "nbconvert_exporter": "python",
   "pygments_lexer": "ipython3",
   "version": "3.13.5"
  }
 },
 "nbformat": 4,
 "nbformat_minor": 5
}
