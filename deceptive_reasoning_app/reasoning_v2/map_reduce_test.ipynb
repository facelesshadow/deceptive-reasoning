{
 "cells": [
  {
   "cell_type": "code",
   "execution_count": 8,
   "id": "f3aadffa",
   "metadata": {},
   "outputs": [],
   "source": [
    "from langgraph.graph import START, END, StateGraph\n",
    "from typing import TypedDict, Annotated\n",
    "from pydantic import BaseModel\n",
    "import operator"
   ]
  },
  {
   "cell_type": "code",
   "execution_count": 9,
   "id": "829d5e87",
   "metadata": {},
   "outputs": [],
   "source": [
    "class State(TypedDict):\n",
    "    answer: list[int]\n",
    "    final: Annotated[list, operator.add]\n",
    "    flag: str"
   ]
  },
  {
   "cell_type": "code",
   "execution_count": 3,
   "id": "3512f35e",
   "metadata": {},
   "outputs": [],
   "source": [
    "from langgraph.types import Send"
   ]
  },
  {
   "cell_type": "code",
   "execution_count": 5,
   "id": "047f4d8e",
   "metadata": {},
   "outputs": [],
   "source": [
    "class SecondState(TypedDict):\n",
    "    what: int"
   ]
  },
  {
   "cell_type": "code",
   "execution_count": 18,
   "id": "d7dbd33a",
   "metadata": {},
   "outputs": [],
   "source": [
    "def node1(state):\n",
    "    print(\"this is node 1\")\n",
    "    return ({'flag': \"Executed Node 1\"})\n",
    "\n",
    "def reduce1(state):\n",
    "    return [Send(\"node2\", {'answer':a}) for a in state['answer']]\n",
    "\n",
    "def node2(state: SecondState):\n",
    "    print(\"node 2\")\n",
    "    return {'final': [state['answer'] + 1]}"
   ]
  },
  {
   "cell_type": "code",
   "execution_count": 19,
   "id": "61a00ae5",
   "metadata": {},
   "outputs": [],
   "source": [
    "builder = StateGraph(State)\n",
    "\n",
    "builder.add_node('node1', node1)\n",
    "builder.add_node('node2', node2)\n",
    "\n",
    "builder.add_edge(START, \"node1\")\n",
    "builder.add_conditional_edges(\"node1\", reduce1, ['node2'])\n",
    "builder.add_edge('node2', END)\n",
    "\n",
    "graph = builder.compile()\n"
   ]
  },
  {
   "cell_type": "code",
   "execution_count": 20,
   "id": "a0aa6e1d",
   "metadata": {},
   "outputs": [
    {
     "name": "stdout",
     "output_type": "stream",
     "text": [
      "this is node 1\n",
      "node 2\n",
      "node 2\n",
      "node 2\n",
      "node 2\n"
     ]
    },
    {
     "data": {
      "text/plain": [
       "{'answer': [1, 2, 3, 4], 'final': [2, 3, 4, 5], 'flag': 'Executed Node 1'}"
      ]
     },
     "execution_count": 20,
     "metadata": {},
     "output_type": "execute_result"
    }
   ],
   "source": [
    "graph.invoke({'answer': [1, 2, 3, 4]})"
   ]
  },
  {
   "cell_type": "code",
   "execution_count": 33,
   "id": "2ce3326c",
   "metadata": {},
   "outputs": [],
   "source": [
    "class StateTwo(TypedDict):\n",
    "    problems: list[str]\n",
    "    final: Annotated[list[str], operator.add]"
   ]
  },
  {
   "cell_type": "code",
   "execution_count": null,
   "id": "c1f5d71f",
   "metadata": {},
   "outputs": [],
   "source": [
    "class SecondState(TypedDict):\n",
    "    what: str"
   ]
  },
  {
   "cell_type": "code",
   "execution_count": 34,
   "id": "89135f42",
   "metadata": {},
   "outputs": [],
   "source": [
    "def node1(state):\n",
    "    print(\"this is node 1\")\n",
    "    return ({'flag': \"Executed Node 1\"})\n",
    "\n",
    "def reduce1(state):\n",
    "    return [Send(\"node2\", {'problems':p}) for p in state['problems']]\n",
    "\n",
    "def node2(state: SecondState):\n",
    "    print(\"node 2\")\n",
    "    return {'final': [state['problems'] + \"Hey!\"]}"
   ]
  },
  {
   "cell_type": "code",
   "execution_count": 35,
   "id": "a81301fc",
   "metadata": {},
   "outputs": [],
   "source": [
    "builder = StateGraph(StateTwo)\n",
    "\n",
    "builder.add_node('node1', node1)\n",
    "builder.add_node('node2', node2)\n",
    "\n",
    "builder.add_edge(START, \"node1\")\n",
    "builder.add_conditional_edges(\"node1\", reduce1, ['node2'])\n",
    "builder.add_edge('node2', END)\n",
    "\n",
    "graph = builder.compile()\n"
   ]
  },
  {
   "cell_type": "code",
   "execution_count": 36,
   "id": "c5d15076",
   "metadata": {},
   "outputs": [
    {
     "name": "stdout",
     "output_type": "stream",
     "text": [
      "this is node 1\n",
      "node 2\n",
      "node 2\n"
     ]
    },
    {
     "data": {
      "text/plain": [
       "{'problems': ['Hey 1', 'Hey 2'], 'final': ['Hey 1Hey!', 'Hey 2Hey!']}"
      ]
     },
     "execution_count": 36,
     "metadata": {},
     "output_type": "execute_result"
    }
   ],
   "source": [
    "graph.invoke({\"problems\": ['Hey 1', 'Hey 2']})"
   ]
  },
  {
   "cell_type": "code",
   "execution_count": null,
   "id": "baed7089",
   "metadata": {},
   "outputs": [],
   "source": []
  }
 ],
 "metadata": {
  "kernelspec": {
   "display_name": "Python 3",
   "language": "python",
   "name": "python3"
  },
  "language_info": {
   "codemirror_mode": {
    "name": "ipython",
    "version": 3
   },
   "file_extension": ".py",
   "mimetype": "text/x-python",
   "name": "python",
   "nbconvert_exporter": "python",
   "pygments_lexer": "ipython3",
   "version": "3.13.5"
  }
 },
 "nbformat": 4,
 "nbformat_minor": 5
}
